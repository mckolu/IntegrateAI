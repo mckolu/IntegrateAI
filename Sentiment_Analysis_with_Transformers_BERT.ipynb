{
  "nbformat": 4,
  "nbformat_minor": 0,
  "metadata": {
    "colab": {
      "name": "Sentiment Analysis with Transformers_BERT.ipynb",
      "provenance": [],
      "collapsed_sections": [],
      "include_colab_link": true
    },
    "kernelspec": {
      "name": "python3",
      "display_name": "Python 3"
    },
    "accelerator": "GPU"
  },
  "cells": [
    {
      "cell_type": "markdown",
      "metadata": {
        "id": "view-in-github",
        "colab_type": "text"
      },
      "source": [
        "<a href=\"https://colab.research.google.com/github/mckolu/integrateai/blob/main/Sentiment_Analysis_with_Transformers_BERT.ipynb\" target=\"_parent\"><img src=\"https://colab.research.google.com/assets/colab-badge.svg\" alt=\"Open In Colab\"/></a>"
      ]
    },
    {
      "cell_type": "markdown",
      "source": [
        "## **IMPORT & PREPROCESS REDDIT DATA**"
      ],
      "metadata": {
        "id": "cH2cpnKeTXMb"
      }
    },
    {
      "cell_type": "code",
      "source": [
        "import pandas as pd\n",
        "data = pd.read_csv(\"https://raw.githubusercontent.com/mckolu/integrateai/main/reddit_data.csv\")\n",
        "# data.head(5)"
      ],
      "metadata": {
        "id": "rka87CBoJC_c"
      },
      "execution_count": 38,
      "outputs": []
    },
    {
      "cell_type": "code",
      "source": [
        "cleaned_data = data.dropna(subset=['title_comments_text', 'title_comments_time_fixed'], how='any')\n",
        "cleaned_data = cleaned_data.applymap(str)\n",
        "\n",
        "import re\n",
        "cleaned_data['title_comments_text'] = cleaned_data['title_comments_text'].apply(lambda x: re.split('https:\\/\\/.*', str(x))[0])"
      ],
      "metadata": {
        "id": "T_0B-RPCPIpy"
      },
      "execution_count": 39,
      "outputs": []
    },
    {
      "cell_type": "markdown",
      "source": [
        "## **SENTIMENT ANALYSIS**"
      ],
      "metadata": {
        "id": "PNPoVHtTTf6J"
      }
    },
    {
      "cell_type": "code",
      "source": [
        "!pip install transformers\n",
        "from transformers import pipeline\n",
        "sentiment_pipeline = pipeline(\"sentiment-analysis\")\n",
        "\n",
        "# from IPython.display import clear_output\n",
        "# clear_output()\n",
        "\n",
        "# data = [\"Trying to lock up the barn after the horse has bolted... I saw an iguana chasing a full grown cat across Biscayne Blvd in North Miami last year. And the year before, I was walking across my apartment complex to check the mail & as I passed under a low-hanging tree limb, the iguana sunning itself decided to thwop me upside the head with its tail! Those scaly bastards are a menace!\"]\n",
        "# sentiment_pipeline(data)"
      ],
      "metadata": {
        "id": "SvBCYJQ9QsiM"
      },
      "execution_count": null,
      "outputs": []
    },
    {
      "cell_type": "code",
      "source": [
        "data_list = cleaned_data['title_comments_text'].tolist()\n",
        "sentiment_results = sentiment_pipeline(data_list)"
      ],
      "metadata": {
        "id": "VJUGdO2UJDEH"
      },
      "execution_count": 41,
      "outputs": []
    },
    {
      "cell_type": "code",
      "source": [
        "sentiment = []\n",
        "for each in sentiment_results:\n",
        "  sentiment.append(list(each.values())[0])\n",
        "\n",
        "# sentiment"
      ],
      "metadata": {
        "id": "j_4d9eiCJDKY"
      },
      "execution_count": 42,
      "outputs": []
    },
    {
      "cell_type": "code",
      "source": [
        "cleaned_data.insert(8, 'sentiment', sentiment)\n",
        "\n",
        "# cleaned_data['sentiment'] = sentiment\n",
        "cleaned_data.head(5)"
      ],
      "metadata": {
        "colab": {
          "base_uri": "https://localhost:8080/",
          "height": 617
        },
        "id": "E-HbejcwORAG",
        "outputId": "a98266c0-5b2c-48a3-b483-b6ad9b12dcf9"
      },
      "execution_count": 43,
      "outputs": [
        {
          "output_type": "execute_result",
          "data": {
            "text/plain": [
              "  title_subreddit    title_user  \\\n",
              "0          r/news  PandaMuffin1   \n",
              "1          r/news  PandaMuffin1   \n",
              "2          r/news  PandaMuffin1   \n",
              "3          r/news  PandaMuffin1   \n",
              "4          r/news  PandaMuffin1   \n",
              "\n",
              "                                          title_text  \\\n",
              "0  Pythons, iguanas: Florida restricts some exoti...   \n",
              "1  Pythons, iguanas: Florida restricts some exoti...   \n",
              "2  Pythons, iguanas: Florida restricts some exoti...   \n",
              "3  Pythons, iguanas: Florida restricts some exoti...   \n",
              "4  Pythons, iguanas: Florida restricts some exoti...   \n",
              "\n",
              "                     title_time title_vote title_comment_count  \\\n",
              "0  Fri Feb 26 21:52:41 2021 UTC  98 points         32 comments   \n",
              "1  Fri Feb 26 21:52:41 2021 UTC  98 points         32 comments   \n",
              "2  Fri Feb 26 21:52:41 2021 UTC  98 points         32 comments   \n",
              "3  Fri Feb 26 21:52:41 2021 UTC  98 points         32 comments   \n",
              "4  Fri Feb 26 21:52:41 2021 UTC  98 points         32 comments   \n",
              "\n",
              "  title_comments_user                                title_comments_text  \\\n",
              "0     SixIsNotANumber  Trying to lock up the barn after the horse has...   \n",
              "1         TheFrogWife   Iguanas ar edible, let people catch and eat them   \n",
              "2        PandaMuffin1  Better late than never Florida. They are alrea...   \n",
              "3        Burnblast277    It'd be great to list... what those species are   \n",
              "4   haroldthehampster  A bit late for that kind of measure. They’ve o...   \n",
              "\n",
              "  sentiment           title_comments_time title_comments_time_fixed  \\\n",
              "0  NEGATIVE  Fri Feb 26 21:58:03 2021 UTC                   2/26/21   \n",
              "1  POSITIVE  Fri Feb 26 23:46:16 2021 UTC                   2/26/21   \n",
              "2  NEGATIVE  Fri Feb 26 21:55:09 2021 UTC                   2/26/21   \n",
              "3  POSITIVE  Fri Feb 26 23:36:37 2021 UTC                   2/26/21   \n",
              "4  NEGATIVE  Sat Feb 27 13:49:45 2021 UTC                   2/27/21   \n",
              "\n",
              "  title_comments_vote  \n",
              "0           40 points  \n",
              "1           11 points  \n",
              "2           10 points  \n",
              "3            5 points  \n",
              "4            3 points  "
            ],
            "text/html": [
              "\n",
              "  <div id=\"df-1d92ee90-a617-4769-9fe4-6c7b4a39195a\">\n",
              "    <div class=\"colab-df-container\">\n",
              "      <div>\n",
              "<style scoped>\n",
              "    .dataframe tbody tr th:only-of-type {\n",
              "        vertical-align: middle;\n",
              "    }\n",
              "\n",
              "    .dataframe tbody tr th {\n",
              "        vertical-align: top;\n",
              "    }\n",
              "\n",
              "    .dataframe thead th {\n",
              "        text-align: right;\n",
              "    }\n",
              "</style>\n",
              "<table border=\"1\" class=\"dataframe\">\n",
              "  <thead>\n",
              "    <tr style=\"text-align: right;\">\n",
              "      <th></th>\n",
              "      <th>title_subreddit</th>\n",
              "      <th>title_user</th>\n",
              "      <th>title_text</th>\n",
              "      <th>title_time</th>\n",
              "      <th>title_vote</th>\n",
              "      <th>title_comment_count</th>\n",
              "      <th>title_comments_user</th>\n",
              "      <th>title_comments_text</th>\n",
              "      <th>sentiment</th>\n",
              "      <th>title_comments_time</th>\n",
              "      <th>title_comments_time_fixed</th>\n",
              "      <th>title_comments_vote</th>\n",
              "    </tr>\n",
              "  </thead>\n",
              "  <tbody>\n",
              "    <tr>\n",
              "      <th>0</th>\n",
              "      <td>r/news</td>\n",
              "      <td>PandaMuffin1</td>\n",
              "      <td>Pythons, iguanas: Florida restricts some exoti...</td>\n",
              "      <td>Fri Feb 26 21:52:41 2021 UTC</td>\n",
              "      <td>98 points</td>\n",
              "      <td>32 comments</td>\n",
              "      <td>SixIsNotANumber</td>\n",
              "      <td>Trying to lock up the barn after the horse has...</td>\n",
              "      <td>NEGATIVE</td>\n",
              "      <td>Fri Feb 26 21:58:03 2021 UTC</td>\n",
              "      <td>2/26/21</td>\n",
              "      <td>40 points</td>\n",
              "    </tr>\n",
              "    <tr>\n",
              "      <th>1</th>\n",
              "      <td>r/news</td>\n",
              "      <td>PandaMuffin1</td>\n",
              "      <td>Pythons, iguanas: Florida restricts some exoti...</td>\n",
              "      <td>Fri Feb 26 21:52:41 2021 UTC</td>\n",
              "      <td>98 points</td>\n",
              "      <td>32 comments</td>\n",
              "      <td>TheFrogWife</td>\n",
              "      <td>Iguanas ar edible, let people catch and eat them</td>\n",
              "      <td>POSITIVE</td>\n",
              "      <td>Fri Feb 26 23:46:16 2021 UTC</td>\n",
              "      <td>2/26/21</td>\n",
              "      <td>11 points</td>\n",
              "    </tr>\n",
              "    <tr>\n",
              "      <th>2</th>\n",
              "      <td>r/news</td>\n",
              "      <td>PandaMuffin1</td>\n",
              "      <td>Pythons, iguanas: Florida restricts some exoti...</td>\n",
              "      <td>Fri Feb 26 21:52:41 2021 UTC</td>\n",
              "      <td>98 points</td>\n",
              "      <td>32 comments</td>\n",
              "      <td>PandaMuffin1</td>\n",
              "      <td>Better late than never Florida. They are alrea...</td>\n",
              "      <td>NEGATIVE</td>\n",
              "      <td>Fri Feb 26 21:55:09 2021 UTC</td>\n",
              "      <td>2/26/21</td>\n",
              "      <td>10 points</td>\n",
              "    </tr>\n",
              "    <tr>\n",
              "      <th>3</th>\n",
              "      <td>r/news</td>\n",
              "      <td>PandaMuffin1</td>\n",
              "      <td>Pythons, iguanas: Florida restricts some exoti...</td>\n",
              "      <td>Fri Feb 26 21:52:41 2021 UTC</td>\n",
              "      <td>98 points</td>\n",
              "      <td>32 comments</td>\n",
              "      <td>Burnblast277</td>\n",
              "      <td>It'd be great to list... what those species are</td>\n",
              "      <td>POSITIVE</td>\n",
              "      <td>Fri Feb 26 23:36:37 2021 UTC</td>\n",
              "      <td>2/26/21</td>\n",
              "      <td>5 points</td>\n",
              "    </tr>\n",
              "    <tr>\n",
              "      <th>4</th>\n",
              "      <td>r/news</td>\n",
              "      <td>PandaMuffin1</td>\n",
              "      <td>Pythons, iguanas: Florida restricts some exoti...</td>\n",
              "      <td>Fri Feb 26 21:52:41 2021 UTC</td>\n",
              "      <td>98 points</td>\n",
              "      <td>32 comments</td>\n",
              "      <td>haroldthehampster</td>\n",
              "      <td>A bit late for that kind of measure. They’ve o...</td>\n",
              "      <td>NEGATIVE</td>\n",
              "      <td>Sat Feb 27 13:49:45 2021 UTC</td>\n",
              "      <td>2/27/21</td>\n",
              "      <td>3 points</td>\n",
              "    </tr>\n",
              "  </tbody>\n",
              "</table>\n",
              "</div>\n",
              "      <button class=\"colab-df-convert\" onclick=\"convertToInteractive('df-1d92ee90-a617-4769-9fe4-6c7b4a39195a')\"\n",
              "              title=\"Convert this dataframe to an interactive table.\"\n",
              "              style=\"display:none;\">\n",
              "        \n",
              "  <svg xmlns=\"http://www.w3.org/2000/svg\" height=\"24px\"viewBox=\"0 0 24 24\"\n",
              "       width=\"24px\">\n",
              "    <path d=\"M0 0h24v24H0V0z\" fill=\"none\"/>\n",
              "    <path d=\"M18.56 5.44l.94 2.06.94-2.06 2.06-.94-2.06-.94-.94-2.06-.94 2.06-2.06.94zm-11 1L8.5 8.5l.94-2.06 2.06-.94-2.06-.94L8.5 2.5l-.94 2.06-2.06.94zm10 10l.94 2.06.94-2.06 2.06-.94-2.06-.94-.94-2.06-.94 2.06-2.06.94z\"/><path d=\"M17.41 7.96l-1.37-1.37c-.4-.4-.92-.59-1.43-.59-.52 0-1.04.2-1.43.59L10.3 9.45l-7.72 7.72c-.78.78-.78 2.05 0 2.83L4 21.41c.39.39.9.59 1.41.59.51 0 1.02-.2 1.41-.59l7.78-7.78 2.81-2.81c.8-.78.8-2.07 0-2.86zM5.41 20L4 18.59l7.72-7.72 1.47 1.35L5.41 20z\"/>\n",
              "  </svg>\n",
              "      </button>\n",
              "      \n",
              "  <style>\n",
              "    .colab-df-container {\n",
              "      display:flex;\n",
              "      flex-wrap:wrap;\n",
              "      gap: 12px;\n",
              "    }\n",
              "\n",
              "    .colab-df-convert {\n",
              "      background-color: #E8F0FE;\n",
              "      border: none;\n",
              "      border-radius: 50%;\n",
              "      cursor: pointer;\n",
              "      display: none;\n",
              "      fill: #1967D2;\n",
              "      height: 32px;\n",
              "      padding: 0 0 0 0;\n",
              "      width: 32px;\n",
              "    }\n",
              "\n",
              "    .colab-df-convert:hover {\n",
              "      background-color: #E2EBFA;\n",
              "      box-shadow: 0px 1px 2px rgba(60, 64, 67, 0.3), 0px 1px 3px 1px rgba(60, 64, 67, 0.15);\n",
              "      fill: #174EA6;\n",
              "    }\n",
              "\n",
              "    [theme=dark] .colab-df-convert {\n",
              "      background-color: #3B4455;\n",
              "      fill: #D2E3FC;\n",
              "    }\n",
              "\n",
              "    [theme=dark] .colab-df-convert:hover {\n",
              "      background-color: #434B5C;\n",
              "      box-shadow: 0px 1px 3px 1px rgba(0, 0, 0, 0.15);\n",
              "      filter: drop-shadow(0px 1px 2px rgba(0, 0, 0, 0.3));\n",
              "      fill: #FFFFFF;\n",
              "    }\n",
              "  </style>\n",
              "\n",
              "      <script>\n",
              "        const buttonEl =\n",
              "          document.querySelector('#df-1d92ee90-a617-4769-9fe4-6c7b4a39195a button.colab-df-convert');\n",
              "        buttonEl.style.display =\n",
              "          google.colab.kernel.accessAllowed ? 'block' : 'none';\n",
              "\n",
              "        async function convertToInteractive(key) {\n",
              "          const element = document.querySelector('#df-1d92ee90-a617-4769-9fe4-6c7b4a39195a');\n",
              "          const dataTable =\n",
              "            await google.colab.kernel.invokeFunction('convertToInteractive',\n",
              "                                                     [key], {});\n",
              "          if (!dataTable) return;\n",
              "\n",
              "          const docLinkHtml = 'Like what you see? Visit the ' +\n",
              "            '<a target=\"_blank\" href=https://colab.research.google.com/notebooks/data_table.ipynb>data table notebook</a>'\n",
              "            + ' to learn more about interactive tables.';\n",
              "          element.innerHTML = '';\n",
              "          dataTable['output_type'] = 'display_data';\n",
              "          await google.colab.output.renderOutput(dataTable, element);\n",
              "          const docLink = document.createElement('div');\n",
              "          docLink.innerHTML = docLinkHtml;\n",
              "          element.appendChild(docLink);\n",
              "        }\n",
              "      </script>\n",
              "    </div>\n",
              "  </div>\n",
              "  "
            ]
          },
          "metadata": {},
          "execution_count": 43
        }
      ]
    },
    {
      "cell_type": "code",
      "source": [
        "from matplotlib import pyplot as plt\n",
        "df = cleaned_data\n",
        "\n",
        "df['word_count'] = df['title_comments_text'].apply(lambda x: len(str(x).split(\" \")))\n",
        "\n",
        "print(\"Word Count Median: \" + str(df['word_count'].median()))\n",
        "print(df['word_count'].describe())\n",
        "x = df['word_count']\n",
        "n_bins = 95\n",
        "plt.hist(x, bins=n_bins)\n",
        "plt.xlabel('Number of Words in Comment')\n",
        "plt.ylabel('Frequency')\n",
        "plt.show()\n"
      ],
      "metadata": {
        "colab": {
          "base_uri": "https://localhost:8080/",
          "height": 453
        },
        "id": "SlgweWjdCJGi",
        "outputId": "5cf9b1e1-55f6-45d1-980b-97cbcb756bb0"
      },
      "execution_count": 44,
      "outputs": [
        {
          "output_type": "stream",
          "name": "stdout",
          "text": [
            "Word Count Median: 11.0\n",
            "count    684.000000\n",
            "mean      18.343567\n",
            "std       24.179849\n",
            "min        1.000000\n",
            "25%        5.000000\n",
            "50%       11.000000\n",
            "75%       21.000000\n",
            "max      284.000000\n",
            "Name: word_count, dtype: float64\n"
          ]
        },
        {
          "output_type": "display_data",
          "data": {
            "text/plain": [
              "<Figure size 432x288 with 1 Axes>"
            ],
            "image/png": "[encoded data removed]"
          },
          "metadata": {
            "needs_background": "light"
          }
        }
      ]
    },
    {
      "cell_type": "code",
      "source": [
        "df['sentiment'].value_counts()"
      ],
      "metadata": {
        "colab": {
          "base_uri": "https://localhost:8080/"
        },
        "id": "TQ7c5wL_CJLO",
        "outputId": "75d6cd02-ffc8-4928-a592-3fea54f1a935"
      },
      "execution_count": 45,
      "outputs": [
        {
          "output_type": "execute_result",
          "data": {
            "text/plain": [
              "NEGATIVE    436\n",
              "POSITIVE    248\n",
              "Name: sentiment, dtype: int64"
            ]
          },
          "metadata": {},
          "execution_count": 45
        }
      ]
    },
    {
      "cell_type": "code",
      "source": [
        "# df['sentiment'].value_counts().plot(kind='bar')\n",
        "\n",
        "df['sentiment'].value_counts().plot(kind='bar', figsize=(7, 6), rot=0)\n",
        "plt.xlabel(\"Sentiment\", labelpad=14)\n",
        "plt.ylabel(\"Count\", labelpad=14)\n",
        "plt.title(\"Reddit Comments on Iguanas in Florida \", y=1.02);\n"
      ],
      "metadata": {
        "colab": {
          "base_uri": "https://localhost:8080/",
          "height": 421
        },
        "id": "UGg7LyyRCJQu",
        "outputId": "ac1de85c-2ece-4b4a-e6d6-b25c2bdad329"
      },
      "execution_count": 46,
      "outputs": [
        {
          "output_type": "display_data",
          "data": {
            "text/plain": [
              "<Figure size 504x432 with 1 Axes>"
            ],
            "image/png": "[encoded data removed]"
          },
          "metadata": {
            "needs_background": "light"
          }
        }
      ]
    },
    {
      "cell_type": "markdown",
      "source": [
        "## **K-MEANS CLUSTERING**"
      ],
      "metadata": {
        "id": "bzUqsi2QTsBf"
      }
    },
    {
      "cell_type": "code",
      "source": [
        "#import dependencies\n",
        "import pandas as pd\n",
        "import numpy as np\n",
        "import matplotlib.pyplot as plt\n",
        "import seaborn as sns\n",
        "import re\n",
        "from sklearn import preprocessing, decomposition, model_selection, metrics, pipeline\n",
        "from sklearn.feature_extraction.text import TfidfVectorizer, CountVectorizer\n",
        "from sklearn.cluster import KMeans\n",
        "import nltk\n",
        "from nltk.stem.wordnet import WordNetLemmatizer\n",
        "from nltk.corpus import stopwords\n",
        "\n",
        "#create a list of stop words\n",
        "import nltk\n",
        "nltk.download('stopwords')\n",
        "nltk.download('wordnet')\n",
        "nltk.download('omw-1.4')\n",
        "stop_words = set(stopwords.words(\"english\"))\n",
        "#show how many words are in the list of stop words\n",
        "\n",
        "stop_words.add('like')\n",
        "stop_words.add('florida')\n",
        "print(len(stop_words))"
      ],
      "metadata": {
        "colab": {
          "base_uri": "https://localhost:8080/"
        },
        "id": "Y_B6tledTxo6",
        "outputId": "844f48b0-6e5b-490e-9576-730ab8da5c14"
      },
      "execution_count": 47,
      "outputs": [
        {
          "output_type": "stream",
          "name": "stdout",
          "text": [
            "181\n"
          ]
        },
        {
          "output_type": "stream",
          "name": "stderr",
          "text": [
            "[nltk_data] Downloading package stopwords to /root/nltk_data...\n",
            "[nltk_data]   Package stopwords is already up-to-date!\n",
            "[nltk_data] Downloading package wordnet to /root/nltk_data...\n",
            "[nltk_data]   Package wordnet is already up-to-date!\n",
            "[nltk_data] Downloading package omw-1.4 to /root/nltk_data...\n",
            "[nltk_data]   Package omw-1.4 is already up-to-date!\n"
          ]
        }
      ]
    },
    {
      "cell_type": "code",
      "source": [
        "# construct a new list to store the cleaned text\n",
        "clean_desc = []\n",
        "for each in data_list:\n",
        "  desc = each.lower()\n",
        "  desc = re.sub('[^a-zA-Z]', ' ', desc)\n",
        "  desc = re.sub(\"&lt;/?.*?&gt;\",\" &lt;&gt; \",desc)\n",
        "  desc = re.sub(\"(\\\\d|\\\\W)+\",\" \",desc)\n",
        "  split_text = desc.split()\n",
        "\n",
        "  lem = WordNetLemmatizer()\n",
        "  split_text = [lem.lemmatize(word) for word in split_text if not word in stop_words and len(word) >2] \n",
        "  split_text = \" \".join(split_text)\n",
        "  clean_desc.append(split_text)\n",
        "\n"
      ],
      "metadata": {
        "id": "oNYlJ6zxTxzl"
      },
      "execution_count": 48,
      "outputs": []
    },
    {
      "cell_type": "code",
      "source": [
        "#TF-IDF vectorizer\n",
        "tfv = TfidfVectorizer(stop_words = stop_words, ngram_range = (1,2))\n",
        "#transform\n",
        "vec_text = tfv.fit_transform(clean_desc)\n",
        "#returns a list of words.\n",
        "words = tfv.get_feature_names()"
      ],
      "metadata": {
        "colab": {
          "base_uri": "https://localhost:8080/"
        },
        "id": "kt7iRfI5VTbX",
        "outputId": "94f5bb77-c590-4d90-cc1e-97d0c3515813"
      },
      "execution_count": 49,
      "outputs": [
        {
          "output_type": "stream",
          "name": "stderr",
          "text": [
            "/usr/local/lib/python3.7/dist-packages/sklearn/utils/deprecation.py:87: FutureWarning: Function get_feature_names is deprecated; get_feature_names is deprecated in 1.0 and will be removed in 1.2. Please use get_feature_names_out instead.\n",
            "  warnings.warn(msg, category=FutureWarning)\n"
          ]
        }
      ]
    },
    {
      "cell_type": "code",
      "source": [
        "#setup kmeans clustering\n",
        "kmeans = KMeans(n_clusters = 4, tol = 0.00001, max_iter = 200)\n",
        "#fit the data \n",
        "kmeans.fit(vec_text)\n",
        "#this loop transforms the numbers back into words\n",
        "common_words = kmeans.cluster_centers_.argsort()[:,-1:-11:-1]\n",
        "for num, centroid in enumerate(common_words):\n",
        "    print(str(num) + ' : ' + ', '.join(words[word] for word in centroid))"
      ],
      "metadata": {
        "colab": {
          "base_uri": "https://localhost:8080/"
        },
        "id": "Hdy4IvZTVYjP",
        "outputId": "64e306c3-db4d-40e4-e0cf-867a2046839a"
      },
      "execution_count": 60,
      "outputs": [
        {
          "output_type": "stream",
          "name": "stdout",
          "text": [
            "0 : invasive, specie, invasive specie, eat, iguana, taste, chicken, people, know, iguana invasive\n",
            "1 : iguana, want, frozen, frozen iguana, eating, stick, large, toilet, man, year\n",
            "2 : lizard, tail, live, iguana, south, everywhere, big lizard, know, look, curly\n",
            "3 : get, man, floridaman, news, way, one, life, dead, cold, look\n"
          ]
        }
      ]
    },
    {
      "cell_type": "markdown",
      "source": [
        "## **POST and SENTIMENT OVER TIME**"
      ],
      "metadata": {
        "id": "b4XpN684mU-X"
      }
    },
    {
      "cell_type": "code",
      "source": [
        ""
      ],
      "metadata": {
        "id": "gOlUoah2mXac"
      },
      "execution_count": 51,
      "outputs": []
    },
    {
      "cell_type": "code",
      "source": [
        "df['title_comments_time_fixed'] = pd.to_datetime(data['title_comments_time_fixed'])\n",
        "# print(type(data.title_comments_time_fixed[0]))\n",
        "\n",
        "df.sort_values(by='title_comments_time_fixed', inplace=True, ascending=True)\n"
      ],
      "metadata": {
        "id": "xB3_rmwrBQ-y"
      },
      "execution_count": 84,
      "outputs": []
    },
    {
      "cell_type": "code",
      "source": [
        ""
      ],
      "metadata": {
        "id": "h3lxeVw4mnqI"
      },
      "execution_count": 73,
      "outputs": []
    },
    {
      "cell_type": "code",
      "source": [
        "# NEEDS TO BE FIXED\n",
        "\n",
        "df.groupby(['title_comments_time_fixed'])['sentiment'].count().plot(legend=True, figsize=(20, 6))"
      ],
      "metadata": {
        "colab": {
          "base_uri": "https://localhost:8080/",
          "height": 393
        },
        "id": "_c09uKMD9-ER",
        "outputId": "d67a39ad-b6d1-410e-884f-496cecdc4e59"
      },
      "execution_count": 89,
      "outputs": [
        {
          "output_type": "execute_result",
          "data": {
            "text/plain": [
              "<matplotlib.axes._subplots.AxesSubplot at 0x7f2b9a20df90>"
            ]
          },
          "metadata": {},
          "execution_count": 89
        },
        {
          "output_type": "display_data",
          "data": {
            "text/plain": [
              "<Figure size 1440x432 with 1 Axes>"
            ],
            "image/png": "[encoded data removed]"
          },
          "metadata": {
            "needs_background": "light"
          }
        }
      ]
    },
    {
      "cell_type": "code",
      "source": [
        ""
      ],
      "metadata": {
        "id": "9svrbQIK9-Gp"
      },
      "execution_count": 53,
      "outputs": []
    },
    {
      "cell_type": "markdown",
      "source": [
        "## **WORD2VEC and K-MEANS**"
      ],
      "metadata": {
        "id": "yfhdQQMzCy3o"
      }
    },
    {
      "cell_type": "code",
      "source": [
        ""
      ],
      "metadata": {
        "id": "Z-5hbrmk9-Iv"
      },
      "execution_count": 53,
      "outputs": []
    }
  ]
}
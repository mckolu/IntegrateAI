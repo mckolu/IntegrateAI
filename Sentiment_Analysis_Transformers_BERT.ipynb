{
  "nbformat": 4,
  "nbformat_minor": 0,
  "metadata": {
    "colab": {
      "name": "Sentiment Analysis - Transformers_BERT.ipynb",
      "provenance": [],
      "collapsed_sections": [],
      "include_colab_link": true
    },
    "kernelspec": {
      "name": "python3",
      "display_name": "Python 3"
    },
    "accelerator": "GPU"
  },
  "cells": [
    {
      "cell_type": "markdown",
      "metadata": {
        "id": "view-in-github",
        "colab_type": "text"
      },
      "source": [
        "<a href=\"https://colab.research.google.com/github/mckolu/integrateai/blob/main/Sentiment_Analysis_Transformers_BERT.ipynb\" target=\"_parent\"><img src=\"https://colab.research.google.com/assets/colab-badge.svg\" alt=\"Open In Colab\"/></a>"
      ]
    },
    {
      "cell_type": "code",
      "metadata": {
        "id": "xcK92vqUOSoN"
      },
      "source": [
        "!pip install transformers\n",
        "from transformers import pipeline\n",
        "sentiment_pipeline = pipeline(\"sentiment-analysis\")\n",
        "\n",
        "# from IPython.display import clear_output\n",
        "# clear_output()"
      ],
      "execution_count": null,
      "outputs": []
    },
    {
      "cell_type": "code",
      "source": [
        "data = [\"Trying to lock up the barn after the horse has bolted... I saw an iguana chasing a full grown cat across Biscayne Blvd in North Miami last year. And the year before, I was walking across my apartment complex to check the mail & as I passed under a low-hanging tree limb, the iguana sunning itself decided to thwop me upside the head with its tail! Those scaly bastards are a menace!\"]\n",
        "sentiment_pipeline(data)"
      ],
      "metadata": {
        "id": "uCHXwPB0F5Zi",
        "outputId": "d5a44e2c-a6f4-42f4-f109-429fb8c7d9a3",
        "colab": {
          "base_uri": "https://localhost:8080/"
        }
      },
      "execution_count": null,
      "outputs": [
        {
          "output_type": "execute_result",
          "data": {
            "text/plain": [
              "[{'label': 'NEGATIVE', 'score': 0.998191773891449}]"
            ]
          },
          "metadata": {},
          "execution_count": 2
        }
      ]
    },
    {
      "cell_type": "code",
      "source": [
        "sentiment_pipeline(['Better late than never Florida. They are already destroying the habitat for the wildlife there.'])"
      ],
      "metadata": {
        "id": "4IwPrIbHGSLZ",
        "outputId": "24650ff0-e48d-4daa-fec8-c9ff17e9d1c0",
        "colab": {
          "base_uri": "https://localhost:8080/"
        }
      },
      "execution_count": null,
      "outputs": [
        {
          "output_type": "execute_result",
          "data": {
            "text/plain": [
              "[{'label': 'NEGATIVE', 'score': 0.9995439648628235}]"
            ]
          },
          "metadata": {},
          "execution_count": 3
        }
      ]
    },
    {
      "cell_type": "code",
      "source": [
        "import pandas as pd"
      ],
      "metadata": {
        "id": "rka87CBoJC_c"
      },
      "execution_count": 77,
      "outputs": []
    },
    {
      "cell_type": "code",
      "source": [
        "data = pd.read_csv(\"https://raw.githubusercontent.com/mckolu/integrateai/main/reddit_data.csv\")\n",
        "# data.head(5)"
      ],
      "metadata": {
        "id": "_NJPm7xEJDB1"
      },
      "execution_count": 93,
      "outputs": []
    },
    {
      "cell_type": "code",
      "source": [
        "cleaned_data = data.dropna(subset=['title_comments_text'], how='any')\n",
        "cleaned_data = cleaned_data.applymap(str)\n",
        "# cleaned_data.head(10)"
      ],
      "metadata": {
        "id": "T_0B-RPCPIpy"
      },
      "execution_count": null,
      "outputs": []
    },
    {
      "cell_type": "code",
      "source": [
        "data_list = cleaned_data['title_comments_text'].tolist()\n",
        "sentiment_results = sentiment_pipeline(data_list)"
      ],
      "metadata": {
        "id": "VJUGdO2UJDEH"
      },
      "execution_count": 95,
      "outputs": []
    },
    {
      "cell_type": "code",
      "source": [
        "sentiment = []\n",
        "for each in sentiment_results:\n",
        "  sentiment.append(list(each.values())[0])\n",
        "\n",
        "# sentiment"
      ],
      "metadata": {
        "id": "j_4d9eiCJDKY"
      },
      "execution_count": 96,
      "outputs": []
    },
    {
      "cell_type": "code",
      "source": [
        "cleaned_data.insert(8, 'sentiment', sentiment)\n",
        "\n",
        "\n",
        "# cleaned_data['sentiment'] = sentiment\n",
        "cleaned_data.head(10)"
      ],
      "metadata": {
        "colab": {
          "base_uri": "https://localhost:8080/",
          "height": 1000
        },
        "id": "E-HbejcwORAG",
        "outputId": "c2d5fbdd-d990-462d-efc6-0fafd511cfb8"
      },
      "execution_count": 97,
      "outputs": [
        {
          "output_type": "execute_result",
          "data": {
            "text/plain": [
              "   title_subreddit      title_user  \\\n",
              "0           r/news    PandaMuffin1   \n",
              "1           r/news    PandaMuffin1   \n",
              "2           r/news    PandaMuffin1   \n",
              "3           r/news    PandaMuffin1   \n",
              "4           r/news    PandaMuffin1   \n",
              "5        r/iguanas  TheWintergreen   \n",
              "6        r/iguanas  TheWintergreen   \n",
              "7        r/iguanas  TheWintergreen   \n",
              "8        r/iguanas  TheWintergreen   \n",
              "10     r/Snorkblot        ThePanth   \n",
              "\n",
              "                                           title_text  \\\n",
              "0   Pythons, iguanas: Florida restricts some exoti...   \n",
              "1   Pythons, iguanas: Florida restricts some exoti...   \n",
              "2   Pythons, iguanas: Florida restricts some exoti...   \n",
              "3   Pythons, iguanas: Florida restricts some exoti...   \n",
              "4   Pythons, iguanas: Florida restricts some exoti...   \n",
              "5       Where can I register my Iguana? (Florida Ban)   \n",
              "6       Where can I register my Iguana? (Florida Ban)   \n",
              "7       Where can I register my Iguana? (Florida Ban)   \n",
              "8       Where can I register my Iguana? (Florida Ban)   \n",
              "10  Nightmare of the iguana: Florida tells homeown...   \n",
              "\n",
              "                      title_time title_vote title_comment_count  \\\n",
              "0   Fri Feb 26 21:52:41 2021 UTC  98 points         32 comments   \n",
              "1   Fri Feb 26 21:52:41 2021 UTC  98 points         32 comments   \n",
              "2   Fri Feb 26 21:52:41 2021 UTC  98 points         32 comments   \n",
              "3   Fri Feb 26 21:52:41 2021 UTC  98 points         32 comments   \n",
              "4   Fri Feb 26 21:52:41 2021 UTC  98 points         32 comments   \n",
              "5   Wed Apr 14 06:34:00 2021 UTC   9 points          6 comments   \n",
              "6   Wed Apr 14 06:34:00 2021 UTC   9 points          6 comments   \n",
              "7   Wed Apr 14 06:34:00 2021 UTC   9 points          6 comments   \n",
              "8   Wed Apr 14 06:34:00 2021 UTC   9 points          6 comments   \n",
              "10   Wed Jul 3 21:49:08 2019 UTC   5 points         11 comments   \n",
              "\n",
              "   title_comments_user                                title_comments_text  \\\n",
              "0      SixIsNotANumber  Trying to lock up the barn after the horse has...   \n",
              "1          TheFrogWife   Iguanas ar edible, let people catch and eat them   \n",
              "2         PandaMuffin1  Better late than never Florida. They are alrea...   \n",
              "3         Burnblast277    It'd be great to list... what those species are   \n",
              "4    haroldthehampster  A bit late for that kind of measure. They’ve o...   \n",
              "5            IggyDaBoo  I second this, I haven’t read much about the b...   \n",
              "6           pctechadam  I own an iguana he's about 15 years old I have...   \n",
              "7         Papa_Glucose  Im pretty sure it’s somewhere on the Dept of F...   \n",
              "8               StewDD  You need to have your iguana PIT tagged (micro...   \n",
              "10               Irk26  This instantly made me think of Mexican Radio\\...   \n",
              "\n",
              "   sentiment           title_comments_time title_comments_vote  \n",
              "0   NEGATIVE  Fri Feb 26 21:58:03 2021 UTC           40 points  \n",
              "1   POSITIVE  Fri Feb 26 23:46:16 2021 UTC           11 points  \n",
              "2   NEGATIVE  Fri Feb 26 21:55:09 2021 UTC           10 points  \n",
              "3   POSITIVE  Fri Feb 26 23:36:37 2021 UTC            5 points  \n",
              "4   NEGATIVE  Sat Feb 27 13:49:45 2021 UTC            3 points  \n",
              "5   NEGATIVE  Wed Apr 14 17:42:14 2021 UTC            3 points  \n",
              "6   NEGATIVE        last edited 1 year ago            2 points  \n",
              "7   NEGATIVE  Wed Apr 14 16:47:22 2021 UTC             1 point  \n",
              "8   NEGATIVE  Fri Apr 16 15:27:26 2021 UTC             1 point  \n",
              "10  NEGATIVE   Wed Jul 3 23:03:22 2019 UTC            4 points  "
            ],
            "text/html": [
              "\n",
              "  <div id=\"df-6b2dfc30-e8ce-4096-859f-a1167eb90115\">\n",
              "    <div class=\"colab-df-container\">\n",
              "      <div>\n",
              "<style scoped>\n",
              "    .dataframe tbody tr th:only-of-type {\n",
              "        vertical-align: middle;\n",
              "    }\n",
              "\n",
              "    .dataframe tbody tr th {\n",
              "        vertical-align: top;\n",
              "    }\n",
              "\n",
              "    .dataframe thead th {\n",
              "        text-align: right;\n",
              "    }\n",
              "</style>\n",
              "<table border=\"1\" class=\"dataframe\">\n",
              "  <thead>\n",
              "    <tr style=\"text-align: right;\">\n",
              "      <th></th>\n",
              "      <th>title_subreddit</th>\n",
              "      <th>title_user</th>\n",
              "      <th>title_text</th>\n",
              "      <th>title_time</th>\n",
              "      <th>title_vote</th>\n",
              "      <th>title_comment_count</th>\n",
              "      <th>title_comments_user</th>\n",
              "      <th>title_comments_text</th>\n",
              "      <th>sentiment</th>\n",
              "      <th>title_comments_time</th>\n",
              "      <th>title_comments_vote</th>\n",
              "    </tr>\n",
              "  </thead>\n",
              "  <tbody>\n",
              "    <tr>\n",
              "      <th>0</th>\n",
              "      <td>r/news</td>\n",
              "      <td>PandaMuffin1</td>\n",
              "      <td>Pythons, iguanas: Florida restricts some exoti...</td>\n",
              "      <td>Fri Feb 26 21:52:41 2021 UTC</td>\n",
              "      <td>98 points</td>\n",
              "      <td>32 comments</td>\n",
              "      <td>SixIsNotANumber</td>\n",
              "      <td>Trying to lock up the barn after the horse has...</td>\n",
              "      <td>NEGATIVE</td>\n",
              "      <td>Fri Feb 26 21:58:03 2021 UTC</td>\n",
              "      <td>40 points</td>\n",
              "    </tr>\n",
              "    <tr>\n",
              "      <th>1</th>\n",
              "      <td>r/news</td>\n",
              "      <td>PandaMuffin1</td>\n",
              "      <td>Pythons, iguanas: Florida restricts some exoti...</td>\n",
              "      <td>Fri Feb 26 21:52:41 2021 UTC</td>\n",
              "      <td>98 points</td>\n",
              "      <td>32 comments</td>\n",
              "      <td>TheFrogWife</td>\n",
              "      <td>Iguanas ar edible, let people catch and eat them</td>\n",
              "      <td>POSITIVE</td>\n",
              "      <td>Fri Feb 26 23:46:16 2021 UTC</td>\n",
              "      <td>11 points</td>\n",
              "    </tr>\n",
              "    <tr>\n",
              "      <th>2</th>\n",
              "      <td>r/news</td>\n",
              "      <td>PandaMuffin1</td>\n",
              "      <td>Pythons, iguanas: Florida restricts some exoti...</td>\n",
              "      <td>Fri Feb 26 21:52:41 2021 UTC</td>\n",
              "      <td>98 points</td>\n",
              "      <td>32 comments</td>\n",
              "      <td>PandaMuffin1</td>\n",
              "      <td>Better late than never Florida. They are alrea...</td>\n",
              "      <td>NEGATIVE</td>\n",
              "      <td>Fri Feb 26 21:55:09 2021 UTC</td>\n",
              "      <td>10 points</td>\n",
              "    </tr>\n",
              "    <tr>\n",
              "      <th>3</th>\n",
              "      <td>r/news</td>\n",
              "      <td>PandaMuffin1</td>\n",
              "      <td>Pythons, iguanas: Florida restricts some exoti...</td>\n",
              "      <td>Fri Feb 26 21:52:41 2021 UTC</td>\n",
              "      <td>98 points</td>\n",
              "      <td>32 comments</td>\n",
              "      <td>Burnblast277</td>\n",
              "      <td>It'd be great to list... what those species are</td>\n",
              "      <td>POSITIVE</td>\n",
              "      <td>Fri Feb 26 23:36:37 2021 UTC</td>\n",
              "      <td>5 points</td>\n",
              "    </tr>\n",
              "    <tr>\n",
              "      <th>4</th>\n",
              "      <td>r/news</td>\n",
              "      <td>PandaMuffin1</td>\n",
              "      <td>Pythons, iguanas: Florida restricts some exoti...</td>\n",
              "      <td>Fri Feb 26 21:52:41 2021 UTC</td>\n",
              "      <td>98 points</td>\n",
              "      <td>32 comments</td>\n",
              "      <td>haroldthehampster</td>\n",
              "      <td>A bit late for that kind of measure. They’ve o...</td>\n",
              "      <td>NEGATIVE</td>\n",
              "      <td>Sat Feb 27 13:49:45 2021 UTC</td>\n",
              "      <td>3 points</td>\n",
              "    </tr>\n",
              "    <tr>\n",
              "      <th>5</th>\n",
              "      <td>r/iguanas</td>\n",
              "      <td>TheWintergreen</td>\n",
              "      <td>Where can I register my Iguana? (Florida Ban)</td>\n",
              "      <td>Wed Apr 14 06:34:00 2021 UTC</td>\n",
              "      <td>9 points</td>\n",
              "      <td>6 comments</td>\n",
              "      <td>IggyDaBoo</td>\n",
              "      <td>I second this, I haven’t read much about the b...</td>\n",
              "      <td>NEGATIVE</td>\n",
              "      <td>Wed Apr 14 17:42:14 2021 UTC</td>\n",
              "      <td>3 points</td>\n",
              "    </tr>\n",
              "    <tr>\n",
              "      <th>6</th>\n",
              "      <td>r/iguanas</td>\n",
              "      <td>TheWintergreen</td>\n",
              "      <td>Where can I register my Iguana? (Florida Ban)</td>\n",
              "      <td>Wed Apr 14 06:34:00 2021 UTC</td>\n",
              "      <td>9 points</td>\n",
              "      <td>6 comments</td>\n",
              "      <td>pctechadam</td>\n",
              "      <td>I own an iguana he's about 15 years old I have...</td>\n",
              "      <td>NEGATIVE</td>\n",
              "      <td>last edited 1 year ago</td>\n",
              "      <td>2 points</td>\n",
              "    </tr>\n",
              "    <tr>\n",
              "      <th>7</th>\n",
              "      <td>r/iguanas</td>\n",
              "      <td>TheWintergreen</td>\n",
              "      <td>Where can I register my Iguana? (Florida Ban)</td>\n",
              "      <td>Wed Apr 14 06:34:00 2021 UTC</td>\n",
              "      <td>9 points</td>\n",
              "      <td>6 comments</td>\n",
              "      <td>Papa_Glucose</td>\n",
              "      <td>Im pretty sure it’s somewhere on the Dept of F...</td>\n",
              "      <td>NEGATIVE</td>\n",
              "      <td>Wed Apr 14 16:47:22 2021 UTC</td>\n",
              "      <td>1 point</td>\n",
              "    </tr>\n",
              "    <tr>\n",
              "      <th>8</th>\n",
              "      <td>r/iguanas</td>\n",
              "      <td>TheWintergreen</td>\n",
              "      <td>Where can I register my Iguana? (Florida Ban)</td>\n",
              "      <td>Wed Apr 14 06:34:00 2021 UTC</td>\n",
              "      <td>9 points</td>\n",
              "      <td>6 comments</td>\n",
              "      <td>StewDD</td>\n",
              "      <td>You need to have your iguana PIT tagged (micro...</td>\n",
              "      <td>NEGATIVE</td>\n",
              "      <td>Fri Apr 16 15:27:26 2021 UTC</td>\n",
              "      <td>1 point</td>\n",
              "    </tr>\n",
              "    <tr>\n",
              "      <th>10</th>\n",
              "      <td>r/Snorkblot</td>\n",
              "      <td>ThePanth</td>\n",
              "      <td>Nightmare of the iguana: Florida tells homeown...</td>\n",
              "      <td>Wed Jul 3 21:49:08 2019 UTC</td>\n",
              "      <td>5 points</td>\n",
              "      <td>11 comments</td>\n",
              "      <td>Irk26</td>\n",
              "      <td>This instantly made me think of Mexican Radio\\...</td>\n",
              "      <td>NEGATIVE</td>\n",
              "      <td>Wed Jul 3 23:03:22 2019 UTC</td>\n",
              "      <td>4 points</td>\n",
              "    </tr>\n",
              "  </tbody>\n",
              "</table>\n",
              "</div>\n",
              "      <button class=\"colab-df-convert\" onclick=\"convertToInteractive('df-6b2dfc30-e8ce-4096-859f-a1167eb90115')\"\n",
              "              title=\"Convert this dataframe to an interactive table.\"\n",
              "              style=\"display:none;\">\n",
              "        \n",
              "  <svg xmlns=\"http://www.w3.org/2000/svg\" height=\"24px\"viewBox=\"0 0 24 24\"\n",
              "       width=\"24px\">\n",
              "    <path d=\"M0 0h24v24H0V0z\" fill=\"none\"/>\n",
              "    <path d=\"M18.56 5.44l.94 2.06.94-2.06 2.06-.94-2.06-.94-.94-2.06-.94 2.06-2.06.94zm-11 1L8.5 8.5l.94-2.06 2.06-.94-2.06-.94L8.5 2.5l-.94 2.06-2.06.94zm10 10l.94 2.06.94-2.06 2.06-.94-2.06-.94-.94-2.06-.94 2.06-2.06.94z\"/><path d=\"M17.41 7.96l-1.37-1.37c-.4-.4-.92-.59-1.43-.59-.52 0-1.04.2-1.43.59L10.3 9.45l-7.72 7.72c-.78.78-.78 2.05 0 2.83L4 21.41c.39.39.9.59 1.41.59.51 0 1.02-.2 1.41-.59l7.78-7.78 2.81-2.81c.8-.78.8-2.07 0-2.86zM5.41 20L4 18.59l7.72-7.72 1.47 1.35L5.41 20z\"/>\n",
              "  </svg>\n",
              "      </button>\n",
              "      \n",
              "  <style>\n",
              "    .colab-df-container {\n",
              "      display:flex;\n",
              "      flex-wrap:wrap;\n",
              "      gap: 12px;\n",
              "    }\n",
              "\n",
              "    .colab-df-convert {\n",
              "      background-color: #E8F0FE;\n",
              "      border: none;\n",
              "      border-radius: 50%;\n",
              "      cursor: pointer;\n",
              "      display: none;\n",
              "      fill: #1967D2;\n",
              "      height: 32px;\n",
              "      padding: 0 0 0 0;\n",
              "      width: 32px;\n",
              "    }\n",
              "\n",
              "    .colab-df-convert:hover {\n",
              "      background-color: #E2EBFA;\n",
              "      box-shadow: 0px 1px 2px rgba(60, 64, 67, 0.3), 0px 1px 3px 1px rgba(60, 64, 67, 0.15);\n",
              "      fill: #174EA6;\n",
              "    }\n",
              "\n",
              "    [theme=dark] .colab-df-convert {\n",
              "      background-color: #3B4455;\n",
              "      fill: #D2E3FC;\n",
              "    }\n",
              "\n",
              "    [theme=dark] .colab-df-convert:hover {\n",
              "      background-color: #434B5C;\n",
              "      box-shadow: 0px 1px 3px 1px rgba(0, 0, 0, 0.15);\n",
              "      filter: drop-shadow(0px 1px 2px rgba(0, 0, 0, 0.3));\n",
              "      fill: #FFFFFF;\n",
              "    }\n",
              "  </style>\n",
              "\n",
              "      <script>\n",
              "        const buttonEl =\n",
              "          document.querySelector('#df-6b2dfc30-e8ce-4096-859f-a1167eb90115 button.colab-df-convert');\n",
              "        buttonEl.style.display =\n",
              "          google.colab.kernel.accessAllowed ? 'block' : 'none';\n",
              "\n",
              "        async function convertToInteractive(key) {\n",
              "          const element = document.querySelector('#df-6b2dfc30-e8ce-4096-859f-a1167eb90115');\n",
              "          const dataTable =\n",
              "            await google.colab.kernel.invokeFunction('convertToInteractive',\n",
              "                                                     [key], {});\n",
              "          if (!dataTable) return;\n",
              "\n",
              "          const docLinkHtml = 'Like what you see? Visit the ' +\n",
              "            '<a target=\"_blank\" href=https://colab.research.google.com/notebooks/data_table.ipynb>data table notebook</a>'\n",
              "            + ' to learn more about interactive tables.';\n",
              "          element.innerHTML = '';\n",
              "          dataTable['output_type'] = 'display_data';\n",
              "          await google.colab.output.renderOutput(dataTable, element);\n",
              "          const docLink = document.createElement('div');\n",
              "          docLink.innerHTML = docLinkHtml;\n",
              "          element.appendChild(docLink);\n",
              "        }\n",
              "      </script>\n",
              "    </div>\n",
              "  </div>\n",
              "  "
            ]
          },
          "metadata": {},
          "execution_count": 97
        }
      ]
    },
    {
      "cell_type": "code",
      "source": [
        "# not working\n",
        "# cleaned_data['title_comments_time'] = pd.to_datetime(cleaned_data['title_comments_time'])"
      ],
      "metadata": {
        "id": "6CdaULkzSPe4"
      },
      "execution_count": null,
      "outputs": []
    }
  ]
}
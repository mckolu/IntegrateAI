{
  "nbformat": 4,
  "nbformat_minor": 0,
  "metadata": {
    "colab": {
      "name": "Sentiment Analysis - Transformers_BERT.ipynb",
      "provenance": [],
      "collapsed_sections": [],
      "include_colab_link": true
    },
    "kernelspec": {
      "name": "python3",
      "display_name": "Python 3"
    },
    "accelerator": "GPU"
  },
  "cells": [
    {
      "cell_type": "markdown",
      "metadata": {
        "id": "view-in-github",
        "colab_type": "text"
      },
      "source": [
        "<a href=\"https://colab.research.google.com/github/mckolu/integrateai/blob/main/Sentiment_Analysis_Transformers_BERT.ipynb\" target=\"_parent\"><img src=\"https://colab.research.google.com/assets/colab-badge.svg\" alt=\"Open In Colab\"/></a>"
      ]
    },
    {
      "cell_type": "code",
      "metadata": {
        "id": "xcK92vqUOSoN"
      },
      "source": [
        "!pip install transformers\n",
        "from transformers import pipeline\n",
        "sentiment_pipeline = pipeline(\"sentiment-analysis\")\n",
        "\n",
        "# from IPython.display import clear_output\n",
        "# clear_output()"
      ],
      "execution_count": null,
      "outputs": []
    },
    {
      "cell_type": "code",
      "source": [
        "data = [\"Trying to lock up the barn after the horse has bolted... I saw an iguana chasing a full grown cat across Biscayne Blvd in North Miami last year. And the year before, I was walking across my apartment complex to check the mail & as I passed under a low-hanging tree limb, the iguana sunning itself decided to thwop me upside the head with its tail! Those scaly bastards are a menace!\"]\n",
        "sentiment_pipeline(data)"
      ],
      "metadata": {
        "id": "uCHXwPB0F5Zi",
        "outputId": "d5a44e2c-a6f4-42f4-f109-429fb8c7d9a3",
        "colab": {
          "base_uri": "https://localhost:8080/"
        }
      },
      "execution_count": null,
      "outputs": [
        {
          "output_type": "execute_result",
          "data": {
            "text/plain": [
              "[{'label': 'NEGATIVE', 'score': 0.998191773891449}]"
            ]
          },
          "metadata": {},
          "execution_count": 2
        }
      ]
    },
    {
      "cell_type": "code",
      "source": [
        "sentiment_pipeline(['Better late than never Florida. They are already destroying the habitat for the wildlife there.'])"
      ],
      "metadata": {
        "id": "4IwPrIbHGSLZ",
        "outputId": "24650ff0-e48d-4daa-fec8-c9ff17e9d1c0",
        "colab": {
          "base_uri": "https://localhost:8080/"
        }
      },
      "execution_count": null,
      "outputs": [
        {
          "output_type": "execute_result",
          "data": {
            "text/plain": [
              "[{'label': 'NEGATIVE', 'score': 0.9995439648628235}]"
            ]
          },
          "metadata": {},
          "execution_count": 3
        }
      ]
    }
  ]
}